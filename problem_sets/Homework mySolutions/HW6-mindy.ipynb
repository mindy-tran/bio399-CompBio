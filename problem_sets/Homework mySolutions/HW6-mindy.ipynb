{
 "cells": [
  {
   "cell_type": "markdown",
   "id": "509ec30f",
   "metadata": {},
   "source": [
    "# Homework Assignment 6\n",
    "## Mindy Tran\n",
    "-----------------------------------\n",
    "**Question 1:** The time to fixation of an allele is defined as the number of\n",
    "generations that it takes to go from frequency $1/2N$ to 1.0. Using the drift2() \n",
    "function that we wrote in the week6 notebook we are going to use simulations\n",
    " to derive the relationship between time to fixation and population size. Using a \n",
    " population size of $N = 10, 50, 100, 500$, start replicate populations off with an \n",
    " allele at frequency $1/2N$, as if it were a new allele, and run them for long enough\n",
    " that alleles go to fixation or loss. Then summarize how many generations it takes\n",
    " for fixation to occur. Be sure to ignore loss of the allele. Plot that simulated\n",
    " average fixation time versus population size. Write a sentence or two explaining what you observe."
   ]
  },
  {
   "cell_type": "code",
   "execution_count": 5,
   "id": "b29fd46f",
   "metadata": {},
   "outputs": [],
   "source": [
    "import numpy as np\n",
    "import seaborn as sns\n",
    "from matplotlib import pyplot as plt"
   ]
  },
  {
   "cell_type": "code",
   "execution_count": 75,
   "id": "da20a053",
   "metadata": {},
   "outputs": [],
   "source": [
    "def drift2(N, p0, gens, reps):\n",
    "    p = np.full((gens, reps), 0.0) #initialize\n",
    "    p[0,:] = p0\n",
    "    for i in range(1,gens):\n",
    "        p_N = np.array([np.random.binomial(N,x) for x in p[i-1,:]])\n",
    "        p[i,:] = p_N/ N\n",
    "    return(p)\n",
    "\n",
    "Ns = [10,50,100,500]"
   ]
  },
  {
   "cell_type": "code",
   "execution_count": 137,
   "id": "f40c4163",
   "metadata": {},
   "outputs": [],
   "source": [
    "def avg_fixation_gen(N):\n",
    "    x = drift2(N,0.5,100,10_000)\n",
    "\n",
    "    # generations where fixation occurs\n",
    "    fix_time = []\n",
    "    for i in x:\n",
    "        num_ones = (i == 1).sum()\n",
    "        fix_time.append(num_ones)\n",
    "    fix_time = np.array(fix_time)\n",
    "\n",
    "    # summarize how many generations it takes for fixation to occur\n",
    "    fixation_gen = np.where(fix_time[:-1] != fix_time[1:])[0] + 2\n",
    "\n",
    "    return np.mean(fixation_gen)\n",
    "\n",
    "\n",
    "avg_fixation_gens = []\n",
    "for N in Ns:\n",
    "    N_gen = [avg_fixation_gen(N) for i in range(50)]\n",
    "    avg_fixation_gens.append(N_gen)\n"
   ]
  },
  {
   "cell_type": "code",
   "execution_count": 140,
   "id": "be81b13a",
   "metadata": {},
   "outputs": [
    {
     "data": {
      "text/plain": [
       "Text(0.5, 0, 'Population Size')"
      ]
     },
     "execution_count": 140,
     "metadata": {},
     "output_type": "execute_result"
    },
    {
     "data": {
      "image/png": "[encoded data removed]",
      "text/plain": [
       "<Figure size 640x480 with 1 Axes>"
      ]
     },
     "metadata": {},
     "output_type": "display_data"
    }
   ],
   "source": [
    "y = [np.mean(item) for item in avg_fixation_gens]\n",
    "# Plot that simulated average fixation time versus population size. \n",
    "plt.scatter(Ns, y)\n",
    "plt.ylabel('Average Fixation Time')\n",
    "plt.xlabel(\"Population Size\")"
   ]
  },
  {
   "cell_type": "markdown",
   "id": "9746bc72",
   "metadata": {},
   "source": [
    "*Write a sentence or two explaining what you observe.*\n",
    "\n",
    "As the population increases, it takes increasingly more generations to reach fixation."
   ]
  },
  {
   "cell_type": "markdown",
   "id": "1f9ce297",
   "metadata": {},
   "source": [
    "**Question 2:** Do exactly the same thing as above, computing the time to fixation, but now use the `selectionPlusDrift()` function from that same notebook. For this exercise, hold $N$ constant at $N = 500$ and vary selection against the $A_2$ allele by using the following three vectors of selection coefficients: $w=[1, 0.99, 0.98], [1, 0.98, 0.96], [1, 0.95, 0.9]$. Write a few sentences about what you notice and produce a plot of fixation time vs selection coefficient against the $A_2$ allele, that is $s = 1 - w_{22}$.\n",
    " "
   ]
  },
  {
   "cell_type": "code",
   "execution_count": 144,
   "id": "1e388e86",
   "metadata": {},
   "outputs": [],
   "source": [
    "def wbar(p, w_vec):\n",
    "    \"\"\"\n",
    "    compute the mean fitness from vector of geno fitnesses\n",
    "    and p the current allele freq\n",
    "    \"\"\"\n",
    "    q = 1 - p\n",
    "    wbar = (p**2 * w_vec[0]) + (2 * p * q * w_vec[1]) + (q**2 * w_vec[2])\n",
    "    return(wbar)\n",
    "\n",
    "def p_prime(p, w_vec):\n",
    "    wb = wbar(p, w_vec)\n",
    "    p_p = (p**2 * w_vec[0]) + (p * (1 - p) * w_vec[1])\n",
    "    return(p_p / wb)\n",
    "\n",
    "def selection(N, p0, w_vec, gens, reps):\n",
    "    p = np.full((gens, reps), 0.0) #initialize\n",
    "    p[0,:] = p0\n",
    "    # renormalize w_vec just in case\n",
    "    max_val = np.max(w_vec)\n",
    "    w_vec = [x / max_val for x in w_vec]\n",
    "    # main loop\n",
    "    for i in range(1,gens):\n",
    "        pp = np.array([p_prime(x, w_vec) for x in p[i-1,:]])\n",
    "        p[i,:] = pp\n",
    "    return(p)\n",
    "\n",
    "def selectionPlusDrift(N, p0, w_vec, gens, reps):\n",
    "    p = np.full((gens, reps), 0.0) #initialize\n",
    "    p[0,:] = p0\n",
    "    # renormalize w_vec just in case\n",
    "    max_val = np.max(w_vec)\n",
    "    w_vec = [x / max_val for x in w_vec]\n",
    "    # main loop\n",
    "    for i in range(1,gens):\n",
    "        pp = np.array([p_prime(x, w_vec) for x in p[i-1,:]]) # selection \n",
    "        p_N = np.array([np.random.binomial(N,x) for x in pp]) # now drift\n",
    "        p[i,:] = p_N / N # divide by popn size to get freqs\n",
    "    return(p)\n"
   ]
  },
  {
   "cell_type": "code",
   "execution_count": 163,
   "id": "ea6c860c",
   "metadata": {},
   "outputs": [],
   "source": [
    "N = 500\n",
    "w = [[1, 0.99, 0.98], [1, 0.98, 0.96], [1, 0.95, 0.9]]\n",
    "\n",
    "def avg_fixation_gen2(w_vec):\n",
    "    x = selectionPlusDrift(N, 0.01, w_vec, 1000, 100)\n",
    "\n",
    "    # generations where fixation occurs\n",
    "    fix_time = []\n",
    "    for i in x:\n",
    "        num_ones = (i == 1).sum()\n",
    "        fix_time.append(num_ones)\n",
    "    fix_time = np.array(fix_time)\n",
    "\n",
    "    # summarize how many generations it takes for fixation to occur\n",
    "    fixation_gen = np.where(fix_time[:-1] != fix_time[1:])[0] + 2\n",
    "\n",
    "    return np.mean(fixation_gen)\n",
    "\n",
    "\n",
    "# np.mean([ avg_fixation_gen2(w[0]) for i in range(10) ])\n",
    "avg_fixation_gens2 = []\n",
    "for w_vec in w:\n",
    "    N_gen = [avg_fixation_gen2(w_vec) for i in range(10)]\n",
    "    avg_fixation_gens2.append(N_gen)  \n",
    "# avg_fixation_gens2"
   ]
  },
  {
   "cell_type": "code",
   "execution_count": 166,
   "id": "6fab7423",
   "metadata": {},
   "outputs": [
    {
     "data": {
      "text/plain": [
       "Text(0.5, 0, 'w vector: w = [[1, 0.99, 0.98], [1, 0.98, 0.96], [1, 0.95, 0.9]]')"
      ]
     },
     "execution_count": 166,
     "metadata": {},
     "output_type": "execute_result"
    },
    {
     "data": {
      "image/png": "[encoded data removed]",
      "text/plain": [
       "<Figure size 640x480 with 1 Axes>"
      ]
     },
     "metadata": {},
     "output_type": "display_data"
    }
   ],
   "source": [
    "y = [np.mean(item) for item in avg_fixation_gens2]\n",
    "# Plot that simulated average fixation time versus population size. \n",
    "plt.scatter([1,2,3], y)\n",
    "plt.ylabel('Fixation Time')\n",
    "plt.xlabel(\"w vector: w = [[1, 0.99, 0.98], [1, 0.98, 0.96], [1, 0.95, 0.9]]\")"
   ]
  }
 ],
 "metadata": {
  "kernelspec": {
   "display_name": "Python 3 (ipykernel)",
   "language": "python",
   "name": "python3"
  },
  "language_info": {
   "codemirror_mode": {
    "name": "ipython",
    "version": 3
   },
   "file_extension": ".py",
   "mimetype": "text/x-python",
   "name": "python",
   "nbconvert_exporter": "python",
   "pygments_lexer": "ipython3",
   "version": "3.9.7"
  }
 },
 "nbformat": 4,
 "nbformat_minor": 5
}
